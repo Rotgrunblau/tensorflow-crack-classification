{
 "cells": [
  {
   "cell_type": "markdown",
   "metadata": {},
   "source": [
    "# Training with Tensorflow Keras - SimpleNet"
   ]
  },
  {
   "cell_type": "code",
   "execution_count": 1,
   "metadata": {},
   "outputs": [],
   "source": [
    "import sys\n",
    "WORKSPACE_BASE_PATH=\"/tf/notebooks/\" # Parent directory containing src, checkpoints, models, etc.\n",
    "CODE_BASE_PATH=\"/tf/notebooks/src/\" # Path were components are stored.\n",
    "DATA_BASE_PATH=\"/tf/notebooks/data/\" # Directory with data in case it is not inside WORKSPACE BASE path.\n",
    "sys.path.append(CODE_BASE_PATH)\n",
    "from cnnmodels import simplenet"
   ]
  },
  {
   "cell_type": "markdown",
   "metadata": {},
   "source": [
    "## Model definition"
   ]
  },
  {
   "cell_type": "code",
   "execution_count": null,
   "metadata": {
    "scrolled": true
   },
   "outputs": [],
   "source": [
    "from tensorflow.keras.utils import plot_model\n",
    "\n",
    "model = simplenet.build_simplenet()\n",
    "model.summary()\n",
    "plot_model(model, show_shapes=True)"
   ]
  },
  {
   "cell_type": "markdown",
   "metadata": {},
   "source": [
    "## Training"
   ]
  },
  {
   "cell_type": "code",
   "execution_count": null,
   "metadata": {},
   "outputs": [],
   "source": [
    "MODEL_NAME=\"simplenet_cracks8020\""
   ]
  },
  {
   "cell_type": "code",
   "execution_count": null,
   "metadata": {
    "scrolled": true
   },
   "outputs": [],
   "source": [
    "simplenet.train_simplenet(  model,\n",
    "            target_size=(64,64),\n",
    "            dataset_path=DATA_BASE_PATH+\"/datasets/cracks_splitted8020/\",\n",
    "            training_path_prefix=\"train_set\",\n",
    "            test_path_prefix=\"test_set\",\n",
    "            history_file_path=WORKSPACE_BASE_PATH+\"/training_logs/\",\n",
    "            history_filename=MODEL_NAME+\".csv\",\n",
    "            checkpoint_path=WORKSPACE_BASE_PATH+\"/model-checkpoints/\",\n",
    "            checkpoint_prefix=MODEL_NAME,\n",
    "            number_of_epochs=30,\n",
    "            tensorboard_log_path=WORKSPACE_BASE_PATH+\"/tensorboard_logs/\",\n",
    ")"
   ]
  },
  {
   "cell_type": "markdown",
   "metadata": {},
   "source": [
    "## Training Report"
   ]
  },
  {
   "cell_type": "code",
   "execution_count": null,
   "metadata": {
    "scrolled": true
   },
   "outputs": [],
   "source": [
    "import matplotlib\n",
    "from utils.plotutils import plot_learning_curves_from_history_file\n",
    "%matplotlib inline\n",
    "matplotlib.rcParams['figure.figsize'] = (10, 6)\n",
    "fig = plot_learning_curves_from_history_file(WORKSPACE_BASE_PATH+\"/training_logs/\"+MODEL_NAME+\".csv\")"
   ]
  },
  {
   "cell_type": "markdown",
   "metadata": {},
   "source": [
    "## Export model to SavedModelFormat"
   ]
  },
  {
   "cell_type": "code",
   "execution_count": null,
   "metadata": {},
   "outputs": [],
   "source": [
    "import glob\n",
    "import os\n",
    "\n",
    "list_of_files = glob.glob(WORKSPACE_BASE_PATH+'/model-checkpoints/*.hdf5') \n",
    "CHECKPOINT_FILE = max(list_of_files, key=os.path.getctime) # last checkpoint\n",
    "VERSION=1\n",
    "print(CHECKPOINT_FILE)"
   ]
  },
  {
   "cell_type": "code",
   "execution_count": null,
   "metadata": {},
   "outputs": [],
   "source": [
    "from utils.export_tools import convert_from_keras_to_savedmodel\n",
    "\n",
    "convert_from_keras_to_savedmodel(\n",
    "    input_filename=CHECKPOINT_FILE,\n",
    "    export_path=WORKSPACE_BASE_PATH+'/models/'+MODEL_NAME+\"/\"+str(VERSION)\n",
    ")"
   ]
  }
 ],
 "metadata": {
  "kernelspec": {
   "display_name": "Python 3",
   "language": "python",
   "name": "python3"
  },
  "language_info": {
   "codemirror_mode": {
    "name": "ipython",
    "version": 3
   },
   "file_extension": ".py",
   "mimetype": "text/x-python",
   "name": "python",
   "nbconvert_exporter": "python",
   "pygments_lexer": "ipython3",
   "version": "3.5.2"
  }
 },
 "nbformat": 4,
 "nbformat_minor": 2
}
