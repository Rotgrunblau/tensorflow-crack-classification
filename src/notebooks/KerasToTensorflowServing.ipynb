{
 "cells": [
  {
   "cell_type": "markdown",
   "metadata": {},
   "source": [
    "# Conversión de modelos de Keras a Tensorflow (para serving)\n",
    "\n",
    "Fuente: https://colab.research.google.com/github/sdcubber/keras-training-serving/blob/master/training-and-serving-with-tf-keras.ipynb#scrollTo=G9nT_Xky513P"
   ]
  },
  {
   "cell_type": "code",
   "execution_count": 9,
   "metadata": {
    "scrolled": true
   },
   "outputs": [],
   "source": [
    "import tensorflow as tf\n",
    "import shutil \n",
    "import os\n",
    "\n",
    "def convert_from_keras_to_savedmodel(input_filename, export_path):\n",
    "    tf.keras.backend.clear_session()\n",
    "    tf.keras.backend.set_learning_phase(0)\n",
    "    model = tf.keras.models.load_model(input_filename)\n",
    "\n",
    "    if os.path.exists(export_path):\n",
    "        shutil.rmtree(export_path)\n",
    "\n",
    "    # Fetch the Keras session and save the model\n",
    "    with tf.keras.backend.get_session() as sess:\n",
    "        tf.saved_model.simple_save(\n",
    "            sess,\n",
    "            export_path,\n",
    "            inputs={'input_image': model.input},\n",
    "            outputs={t.name:t for t in model.outputs})"
   ]
  },
  {
   "cell_type": "code",
   "execution_count": 10,
   "metadata": {},
   "outputs": [],
   "source": [
    "WORKSPACE_FOLDER_PATH=\"../\""
   ]
  },
  {
   "cell_type": "code",
   "execution_count": 11,
   "metadata": {},
   "outputs": [
    {
     "name": "stdout",
     "output_type": "stream",
     "text": [
      "INFO:tensorflow:Assets added to graph.\n",
      "INFO:tensorflow:No assets to write.\n",
      "INFO:tensorflow:SavedModel written to: ..//models/febrero-cpu-friendly_weights.1/saved_model.pb\n"
     ]
    }
   ],
   "source": [
    "convert_from_keras_to_savedmodel(\n",
    "    input_filename=WORKSPACE_FOLDER_PATH+'/cpkt/febrero-cpu-friendly_weights.27-0.01.hdf5',\n",
    "    export_path=WORKSPACE_FOLDER_PATH+'/models/febrero-cpu-friendly_weights.1'\n",
    ")"
   ]
  }
 ],
 "metadata": {
  "kernelspec": {
   "display_name": "Python 3",
   "language": "python",
   "name": "python3"
  },
  "language_info": {
   "codemirror_mode": {
    "name": "ipython",
    "version": 3
   },
   "file_extension": ".py",
   "mimetype": "text/x-python",
   "name": "python",
   "nbconvert_exporter": "python",
   "pygments_lexer": "ipython3",
   "version": "3.5.2"
  }
 },
 "nbformat": 4,
 "nbformat_minor": 2
}
