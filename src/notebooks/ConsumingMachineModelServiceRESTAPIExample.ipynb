{
 "cells": [
  {
   "cell_type": "markdown",
   "metadata": {},
   "source": [
    "# Example of consuming a machine learning model service with REST API"
   ]
  },
  {
   "cell_type": "code",
   "execution_count": 67,
   "metadata": {},
   "outputs": [],
   "source": [
    "import requests\n",
    "import json\n",
    "import cv2\n",
    "import matplotlib.pyplot as plt"
   ]
  },
  {
   "cell_type": "markdown",
   "metadata": {},
   "source": [
    "Service provider configuration:"
   ]
  },
  {
   "cell_type": "code",
   "execution_count": 68,
   "metadata": {},
   "outputs": [],
   "source": [
    "HOSTNAME=\"172.18.0.2\"\n",
    "MODEL=\"febrero-cpu-friendly_weights\"\n",
    "ENDPOINT='http://%s:8501/v1/models/%s' % (HOSTNAME, MODEL)"
   ]
  },
  {
   "cell_type": "markdown",
   "metadata": {},
   "source": [
    "## API usage"
   ]
  },
  {
   "cell_type": "markdown",
   "metadata": {},
   "source": [
    "### Query service status"
   ]
  },
  {
   "cell_type": "code",
   "execution_count": 69,
   "metadata": {},
   "outputs": [
    {
     "data": {
      "text/plain": [
       "{'model_version_status': [{'state': 'AVAILABLE',\n",
       "   'status': {'error_code': 'OK', 'error_message': ''},\n",
       "   'version': '1'}]}"
      ]
     },
     "execution_count": 69,
     "metadata": {},
     "output_type": "execute_result"
    }
   ],
   "source": [
    "r = requests.get(ENDPOINT)\n",
    "r.json()"
   ]
  },
  {
   "cell_type": "markdown",
   "metadata": {},
   "source": [
    "### Query model metadata"
   ]
  },
  {
   "cell_type": "code",
   "execution_count": 70,
   "metadata": {
    "scrolled": true
   },
   "outputs": [
    {
     "data": {
      "text/plain": [
       "{'metadata': {'signature_def': {'signature_def': {'serving_default': {'inputs': {'input_image': {'dtype': 'DT_FLOAT',\n",
       "       'name': 'conv2d_11_input:0',\n",
       "       'tensor_shape': {'dim': [{'name': '', 'size': '-1'},\n",
       "         {'name': '', 'size': '64'},\n",
       "         {'name': '', 'size': '64'},\n",
       "         {'name': '', 'size': '3'}],\n",
       "        'unknown_rank': False}}},\n",
       "     'method_name': 'tensorflow/serving/predict',\n",
       "     'outputs': {'dense_12/Softmax:0': {'dtype': 'DT_FLOAT',\n",
       "       'name': 'dense_12/Softmax:0',\n",
       "       'tensor_shape': {'dim': [{'name': '', 'size': '-1'},\n",
       "         {'name': '', 'size': '2'}],\n",
       "        'unknown_rank': False}}}}}}},\n",
       " 'model_spec': {'name': 'febrero-cpu-friendly_weights',\n",
       "  'signature_name': '',\n",
       "  'version': '1'}}"
      ]
     },
     "execution_count": 70,
     "metadata": {},
     "output_type": "execute_result"
    }
   ],
   "source": [
    "r = requests.get(ENDPOINT+\"/metadata\")\n",
    "r.json()"
   ]
  },
  {
   "cell_type": "code",
   "execution_count": 71,
   "metadata": {},
   "outputs": [
    {
     "data": {
      "text/plain": [
       "('64', '64')"
      ]
     },
     "execution_count": 71,
     "metadata": {},
     "output_type": "execute_result"
    }
   ],
   "source": [
    "INPUT_IMAGE_WIDTH = r.json()['metadata']['signature_def']['signature_def']['serving_default']['inputs']['input_image']['tensor_shape']['dim'][1]['size']\n",
    "INPUT_IMAGE_HEIGHT = r.json()['metadata']['signature_def']['signature_def']['serving_default']['inputs']['input_image']['tensor_shape']['dim'][2]['size']\n",
    "INPUT_IMAGE_WIDTH, INPUT_IMAGE_HEIGHT"
   ]
  },
  {
   "cell_type": "markdown",
   "metadata": {},
   "source": [
    "### Make a prediction"
   ]
  },
  {
   "cell_type": "code",
   "execution_count": 72,
   "metadata": {},
   "outputs": [],
   "source": [
    "def predict_crack_or_no_crack(img):\n",
    "    r = requests.post(ENDPOINT+':predict', json={\"instances\": [{'input_image': img.tolist()}]})\n",
    "    result = {\n",
    "        \"no_crack_prob\": r.json()['predictions'][0][0],\n",
    "        \"crack_prob\": r.json()['predictions'][0][1]\n",
    "    }\n",
    "    return result\n",
    "\n",
    "def load_local_image(img_filename, w,h):\n",
    "    img = cv2.imread(\"%s%s\" % (IMG_PATH,TEST_IMAGE))\n",
    "    img = cv2.cvtColor(img, cv2.COLOR_BGR2RGB) # fix color order (depends on OpenCV version)\n",
    "    return cv2.resize(img,(int(w),int(h))) "
   ]
  },
  {
   "cell_type": "code",
   "execution_count": 76,
   "metadata": {
    "scrolled": false
   },
   "outputs": [
    {
     "data": {
      "text/plain": [
       "{'crack_prob': 1.0, 'no_crack_prob': 0.0}"
      ]
     },
     "execution_count": 76,
     "metadata": {},
     "output_type": "execute_result"
    },
    {
     "data": {
      "image/png": "[encoded data removed]",
      "text/plain": [
       "<Figure size 432x288 with 1 Axes>"
      ]
     },
     "metadata": {
      "needs_background": "light"
     },
     "output_type": "display_data"
    }
   ],
   "source": [
    "IMG_PATH=\"/tf/notebooks/data/datasets/cracks-redux/demo/\"\n",
    "TEST_IMAGE=\"1.jpg\"\n",
    "\n",
    "img = load_local_image(IMG_PATH+TEST_IMAGE,INPUT_IMAGE_WIDTH,INPUT_IMAGE_HEIGHT)\n",
    "plt.imshow(img, interpolation='nearest', aspect='auto')\n",
    "predict_crack_or_no_crack(img)"
   ]
  }
 ],
 "metadata": {
  "kernelspec": {
   "display_name": "Python 3",
   "language": "python",
   "name": "python3"
  },
  "language_info": {
   "codemirror_mode": {
    "name": "ipython",
    "version": 3
   },
   "file_extension": ".py",
   "mimetype": "text/x-python",
   "name": "python",
   "nbconvert_exporter": "python",
   "pygments_lexer": "ipython3",
   "version": "3.5.2"
  }
 },
 "nbformat": 4,
 "nbformat_minor": 2
}
