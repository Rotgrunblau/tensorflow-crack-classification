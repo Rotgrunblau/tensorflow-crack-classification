{
 "cells": [
  {
   "cell_type": "markdown",
   "metadata": {},
   "source": [
    "# Training with Tensorflow Keras"
   ]
  },
  {
   "cell_type": "code",
   "execution_count": 1,
   "metadata": {},
   "outputs": [],
   "source": [
    "import tensorflow as tf\n",
    "from tensorflow.keras.models import Sequential\n",
    "from tensorflow.keras.layers import Conv2D\n",
    "from tensorflow.keras.layers import BatchNormalization\n",
    "from tensorflow.keras.layers import MaxPooling2D\n",
    "from tensorflow.keras.layers import Flatten\n",
    "from tensorflow.keras.layers import Dropout\n",
    "from tensorflow.keras.layers import Dense\n",
    "from tensorflow.keras.layers import ELU\n",
    "from tensorflow.keras.optimizers import SGD\n",
    "from tensorflow.keras.callbacks import ModelCheckpoint\n",
    "from tensorflow.keras.callbacks import CSVLogger\n",
    "from tensorflow.keras.preprocessing.image import ImageDataGenerator\n",
    "\n",
    "from tensorflow.keras.utils import plot_model\n",
    "from tensorflow.keras.callbacks import TensorBoard\n",
    "\n",
    "from IPython.display import SVG\n",
    "from tensorflow.keras.utils import plot_model\n",
    "import matplotlib.pyplot as plt"
   ]
  },
  {
   "cell_type": "code",
   "execution_count": 2,
   "metadata": {},
   "outputs": [],
   "source": [
    "# To disable warning. \n",
    "# See https://stackoverflow.com/questions/43337601/nosetests-with-tensorflow-lots-of-debugging-output-how-to-disable\n",
    "import logging\n",
    "logging.getLogger('tensorflow').disabled = True "
   ]
  },
  {
   "cell_type": "markdown",
   "metadata": {},
   "source": [
    "## Model definition"
   ]
  },
  {
   "cell_type": "code",
   "execution_count": 3,
   "metadata": {},
   "outputs": [],
   "source": [
    "def build_simplenet(input_shape=(64,64,3),n_output_classes=2):\n",
    "    model = Sequential()\n",
    "    \n",
    "    # Convolution + Pooling #1\n",
    "    model.add(Conv2D( 32, (3, 3), input_shape=input_shape,\n",
    "                          activation = 'relu' ))        \n",
    "    model.add( MaxPooling2D(pool_size = (2,2)))\n",
    "    \n",
    "    # Convolution + Pooling #2\n",
    "    model.add(Conv2D( 32, (3, 3), activation = 'relu' ))        \n",
    "    model.add( MaxPooling2D(pool_size = (2,2)))\n",
    "    \n",
    "    # Flattening\n",
    "    model.add( Flatten() )\n",
    "    \n",
    "    # FC #1\n",
    "    model.add( Dense( units = 128, activation = 'relu' ) )\n",
    "    \n",
    "    # Output Layer\n",
    "    model.add( Dense( units = n_output_classes, activation = 'softmax' ) )   \n",
    "    \n",
    "    # Compile\n",
    "    model.compile( \n",
    "        optimizer = 'adam', loss = 'categorical_crossentropy',\n",
    "        metrics = ['accuracy'] )\n",
    "    return model\n"
   ]
  },
  {
   "cell_type": "code",
   "execution_count": 4,
   "metadata": {
    "scrolled": true
   },
   "outputs": [
    {
     "name": "stdout",
     "output_type": "stream",
     "text": [
      "Model: \"sequential\"\n",
      "_________________________________________________________________\n",
      "Layer (type)                 Output Shape              Param #   \n",
      "=================================================================\n",
      "conv2d (Conv2D)              (None, 62, 62, 32)        896       \n",
      "_________________________________________________________________\n",
      "max_pooling2d (MaxPooling2D) (None, 31, 31, 32)        0         \n",
      "_________________________________________________________________\n",
      "conv2d_1 (Conv2D)            (None, 29, 29, 32)        9248      \n",
      "_________________________________________________________________\n",
      "max_pooling2d_1 (MaxPooling2 (None, 14, 14, 32)        0         \n",
      "_________________________________________________________________\n",
      "flatten (Flatten)            (None, 6272)              0         \n",
      "_________________________________________________________________\n",
      "dense (Dense)                (None, 128)               802944    \n",
      "_________________________________________________________________\n",
      "dense_1 (Dense)              (None, 2)                 258       \n",
      "=================================================================\n",
      "Total params: 813,346\n",
      "Trainable params: 813,346\n",
      "Non-trainable params: 0\n",
      "_________________________________________________________________\n",
      "Failed to import pydot. You must install pydot and graphviz for `pydotprint` to work.\n"
     ]
    }
   ],
   "source": [
    "model = build_simplenet()\n",
    "model.summary()\n",
    "plot_model(model, show_shapes=True)"
   ]
  },
  {
   "cell_type": "markdown",
   "metadata": {},
   "source": [
    "## Training"
   ]
  },
  {
   "cell_type": "code",
   "execution_count": 5,
   "metadata": {},
   "outputs": [],
   "source": [
    "def train_cnn( model,\n",
    "               target_size,\n",
    "               dataset_path,\n",
    "               training_path_prefix,\n",
    "               test_path_prefix,                        \n",
    "               history_file_path,\n",
    "               history_filename,\n",
    "               checkpoint_path,\n",
    "               checkpoint_prefix,\n",
    "               number_of_epochs,\n",
    "               tensorboard_log_path\n",
    "            ):\n",
    "    \n",
    "    \"\"\"\n",
    "        see: https://keras.io/preprocessing/image/\n",
    "    \"\"\"\n",
    "    train_datagen = ImageDataGenerator( rescale=1./255,\n",
    "                                        shear_range=0.2,\n",
    "                                        zoom_range=0.2,\n",
    "                                        horizontal_flip=True )\n",
    "        \n",
    "    test_datagen = ImageDataGenerator(rescale=1./255)\n",
    "    training_set_generator = train_datagen.flow_from_directory(\n",
    "            dataset_path+training_path_prefix,\n",
    "            target_size,\n",
    "            batch_size=32,\n",
    "            class_mode='categorical',\n",
    "            shuffle=True,\n",
    "            seed=42\n",
    "        )\n",
    "    test_set_generator = test_datagen.flow_from_directory(\n",
    "            dataset_path+test_path_prefix,\n",
    "            target_size,\n",
    "            batch_size=32,\n",
    "            class_mode='categorical',\n",
    "            shuffle=True,\n",
    "            seed=42\n",
    "        )\n",
    "        \n",
    "    step_size_train=training_set_generator.n//training_set_generator.batch_size\n",
    "    step_size_validation=test_set_generator.n//test_set_generator.batch_size\n",
    "\n",
    "    check_pointer = ModelCheckpoint(\n",
    "            checkpoint_path + '%s_weights.{epoch:02d}-{val_loss:.2f}.hdf5' % checkpoint_prefix, \n",
    "            monitor='val_loss', \n",
    "            mode='auto', \n",
    "            save_best_only=True\n",
    "    )\n",
    "    \n",
    "    tensorboard_logger = TensorBoard( \n",
    "        log_dir=tensorboard_log_path, histogram_freq=0,  \n",
    "          write_graph=True, write_images=True\n",
    "    )\n",
    "    tensorboard_logger.set_model(model)\n",
    "\n",
    "    csv_logger = CSVLogger(filename=history_file_path+history_filename)\n",
    "    history = model.fit_generator(\n",
    "            training_set_generator,\n",
    "            steps_per_epoch=step_size_train,\n",
    "            epochs=number_of_epochs,\n",
    "            validation_data=test_set_generator,\n",
    "            validation_steps=step_size_validation,\n",
    "            callbacks=[check_pointer, csv_logger,tensorboard_logger] \n",
    "    )"
   ]
  },
  {
   "cell_type": "code",
   "execution_count": 8,
   "metadata": {
    "scrolled": true
   },
   "outputs": [
    {
     "name": "stdout",
     "output_type": "stream",
     "text": [
      "Found 400 images belonging to 2 classes.\n",
      "Found 200 images belonging to 2 classes.\n",
      "Epoch 1/30\n",
      "12/12 [==============================] - 7s 547ms/step - loss: 0.7935 - acc: 0.5136 - val_loss: 0.6697 - val_acc: 0.9583\n",
      "Epoch 2/30\n",
      "12/12 [==============================] - 2s 154ms/step - loss: 0.6533 - acc: 0.7283 - val_loss: 0.5334 - val_acc: 0.9896\n",
      "Epoch 3/30\n",
      "12/12 [==============================] - 2s 149ms/step - loss: 0.4725 - acc: 0.8179 - val_loss: 0.2059 - val_acc: 0.9948\n",
      "Epoch 4/30\n",
      "12/12 [==============================] - 2s 140ms/step - loss: 0.3449 - acc: 0.8696 - val_loss: 0.1381 - val_acc: 0.9740\n",
      "Epoch 5/30\n",
      "12/12 [==============================] - 2s 127ms/step - loss: 0.3307 - acc: 0.8533 - val_loss: 0.2904 - val_acc: 0.8698\n",
      "Epoch 6/30\n",
      "12/12 [==============================] - 1s 124ms/step - loss: 0.1602 - acc: 0.9511 - val_loss: 0.1767 - val_acc: 0.9271\n",
      "Epoch 7/30\n",
      "12/12 [==============================] - 2s 130ms/step - loss: 0.1306 - acc: 0.9661 - val_loss: 0.0602 - val_acc: 0.9844\n",
      "Epoch 8/30\n",
      "12/12 [==============================] - 1s 119ms/step - loss: 0.1090 - acc: 0.9647 - val_loss: 0.3788 - val_acc: 0.8594\n",
      "Epoch 9/30\n",
      "12/12 [==============================] - 1s 123ms/step - loss: 0.1354 - acc: 0.9647 - val_loss: 0.0641 - val_acc: 0.9844\n",
      "Epoch 10/30\n",
      "12/12 [==============================] - 1s 115ms/step - loss: 0.0830 - acc: 0.9744 - val_loss: 0.1745 - val_acc: 0.9375\n",
      "Epoch 11/30\n",
      "12/12 [==============================] - 1s 121ms/step - loss: 0.0908 - acc: 0.9688 - val_loss: 0.0235 - val_acc: 1.0000\n",
      "Epoch 12/30\n",
      "12/12 [==============================] - 1s 123ms/step - loss: 0.0856 - acc: 0.9701 - val_loss: 0.1441 - val_acc: 0.9583\n",
      "Epoch 13/30\n",
      "12/12 [==============================] - 1s 114ms/step - loss: 0.0880 - acc: 0.9783 - val_loss: 0.2029 - val_acc: 0.9323\n",
      "Epoch 14/30\n",
      "12/12 [==============================] - 1s 115ms/step - loss: 0.0755 - acc: 0.9728 - val_loss: 0.2149 - val_acc: 0.9323\n",
      "Epoch 15/30\n",
      "12/12 [==============================] - 2s 149ms/step - loss: 0.0965 - acc: 0.9674 - val_loss: 0.0709 - val_acc: 0.9844\n",
      "Epoch 16/30\n",
      "12/12 [==============================] - 2s 148ms/step - loss: 0.0889 - acc: 0.9810 - val_loss: 0.0418 - val_acc: 0.9896\n",
      "Epoch 17/30\n",
      "12/12 [==============================] - 2s 139ms/step - loss: 0.0805 - acc: 0.9688 - val_loss: 0.0476 - val_acc: 0.9896\n",
      "Epoch 18/30\n",
      "12/12 [==============================] - 2s 147ms/step - loss: 0.0579 - acc: 0.9837 - val_loss: 0.0336 - val_acc: 0.9896\n",
      "Epoch 19/30\n",
      "12/12 [==============================] - 2s 126ms/step - loss: 0.0963 - acc: 0.9659 - val_loss: 0.0225 - val_acc: 1.0000\n",
      "Epoch 20/30\n",
      "12/12 [==============================] - 2s 131ms/step - loss: 0.0889 - acc: 0.9766 - val_loss: 0.2119 - val_acc: 0.9167\n",
      "Epoch 21/30\n",
      "12/12 [==============================] - 1s 114ms/step - loss: 0.0467 - acc: 0.9886 - val_loss: 0.0936 - val_acc: 0.9740\n",
      "Epoch 22/30\n",
      "12/12 [==============================] - 1s 115ms/step - loss: 0.0568 - acc: 0.9837 - val_loss: 0.0362 - val_acc: 0.9896\n",
      "Epoch 23/30\n",
      "12/12 [==============================] - 1s 123ms/step - loss: 0.0633 - acc: 0.9740 - val_loss: 0.0638 - val_acc: 0.9844\n",
      "Epoch 24/30\n",
      "12/12 [==============================] - 1s 125ms/step - loss: 0.0389 - acc: 0.9858 - val_loss: 0.1635 - val_acc: 0.9531\n",
      "Epoch 25/30\n",
      "12/12 [==============================] - 1s 123ms/step - loss: 0.0656 - acc: 0.9766 - val_loss: 0.1663 - val_acc: 0.9531\n",
      "Epoch 26/30\n",
      "12/12 [==============================] - 1s 116ms/step - loss: 0.0455 - acc: 0.9810 - val_loss: 0.2827 - val_acc: 0.9323\n",
      "Epoch 27/30\n",
      "12/12 [==============================] - 1s 122ms/step - loss: 0.0448 - acc: 0.9864 - val_loss: 0.3540 - val_acc: 0.9323\n",
      "Epoch 28/30\n",
      "12/12 [==============================] - 2s 151ms/step - loss: 0.0540 - acc: 0.9837 - val_loss: 0.0451 - val_acc: 0.9896\n",
      "Epoch 29/30\n",
      "12/12 [==============================] - 2s 146ms/step - loss: 0.0446 - acc: 0.9891 - val_loss: 0.2125 - val_acc: 0.9479\n",
      "Epoch 30/30\n",
      "12/12 [==============================] - 2s 148ms/step - loss: 0.0794 - acc: 0.9688 - val_loss: 0.0213 - val_acc: 1.0000\n"
     ]
    }
   ],
   "source": [
    "train_cnn(  model,\n",
    "            target_size=(64,64),\n",
    "            dataset_path=\"/tf/notebooks/data/datasets/cracks-redux/\",\n",
    "            training_path_prefix=\"training_set\",\n",
    "            test_path_prefix=\"test_set\",\n",
    "            history_file_path=\"/tf/notebooks/history/\",\n",
    "            history_filename=\"new_trained_model_on_docker.csv\",\n",
    "            checkpoint_path=\"/tf/notebooks/cpkt/\",\n",
    "            checkpoint_prefix=\"new_trained_model_on_docker\",\n",
    "            number_of_epochs=30,\n",
    "            tensorboard_log_path=\"/tf/notebooks/tensorboard_logs/\",\n",
    ")"
   ]
  },
  {
   "cell_type": "markdown",
   "metadata": {},
   "source": [
    "## Training Report"
   ]
  },
  {
   "cell_type": "code",
   "execution_count": 10,
   "metadata": {
    "scrolled": true
   },
   "outputs": [
    {
     "data": {
      "image/png": "[encoded data removed]",
      "text/plain": [
       "<Figure size 720x432 with 2 Axes>"
      ]
     },
     "metadata": {
      "needs_background": "light"
     },
     "output_type": "display_data"
    }
   ],
   "source": [
    "import matplotlib\n",
    "from plotutils import plot_learning_curves_from_history_file\n",
    "%matplotlib inline\n",
    "matplotlib.rcParams['figure.figsize'] = (10, 6)\n",
    "fig = plot_learning_curves_from_history_file(\"/tf/notebooks/history/new_trained_model_on_docker.csv\")"
   ]
  },
  {
   "cell_type": "markdown",
   "metadata": {},
   "source": [
    "## Export model to SavedModelFormat"
   ]
  },
  {
   "cell_type": "code",
   "execution_count": 11,
   "metadata": {},
   "outputs": [],
   "source": [
    "import shutil \n",
    "import os\n",
    "\n",
    "def convert_from_keras_to_savedmodel(input_filename, export_path):\n",
    "    tf.keras.backend.clear_session()\n",
    "    tf.keras.backend.set_learning_phase(0)\n",
    "    model = tf.keras.models.load_model(input_filename)\n",
    "\n",
    "    if os.path.exists(export_path):\n",
    "        shutil.rmtree(export_path)\n",
    "\n",
    "    # Fetch the Keras session and save the model\n",
    "    with tf.keras.backend.get_session() as sess:\n",
    "        tf.saved_model.simple_save(\n",
    "            sess,\n",
    "            export_path,\n",
    "            inputs={'input_image': model.input},\n",
    "            outputs={t.name:t for t in model.outputs})"
   ]
  },
  {
   "cell_type": "code",
   "execution_count": 12,
   "metadata": {},
   "outputs": [],
   "source": [
    "WORKSPACE_FOLDER_PATH=\"/tf/notebooks/\""
   ]
  },
  {
   "cell_type": "code",
   "execution_count": 13,
   "metadata": {},
   "outputs": [],
   "source": [
    "convert_from_keras_to_savedmodel(\n",
    "    input_filename=WORKSPACE_FOLDER_PATH+'/cpkt/febrero-cpu-friendly_weights.27-0.01.hdf5',\n",
    "    export_path=WORKSPACE_FOLDER_PATH+'/models/febrero-cpu-friendly_weights.1'\n",
    ")"
   ]
  }
 ],
 "metadata": {
  "kernelspec": {
   "display_name": "Python 3",
   "language": "python",
   "name": "python3"
  },
  "language_info": {
   "codemirror_mode": {
    "name": "ipython",
    "version": 3
   },
   "file_extension": ".py",
   "mimetype": "text/x-python",
   "name": "python",
   "nbconvert_exporter": "python",
   "pygments_lexer": "ipython3",
   "version": "3.5.2"
  }
 },
 "nbformat": 4,
 "nbformat_minor": 2
}
